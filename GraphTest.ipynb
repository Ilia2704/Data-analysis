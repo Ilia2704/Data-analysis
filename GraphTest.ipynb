{
 "cells": [
  {
   "cell_type": "markdown",
   "id": "1dddf577",
   "metadata": {},
   "source": [
    "1. Считать данные из источника https://disk.yandex.ru/d/s6wWqd8Ol_5IvQ\n",
    "2. Внести данные из таблицы в графовую БД\n",
    "3. Построить графовое представление в БД, осуществить несколько запросов на языке запросов к графовой БД\n",
    "4. Важный пункт. Найти взаимосвязи визуально и с помощью алгоритмов (алгоритмы на ваше усмотрение). Обратить внимание на сложные сообщества, провести анализ сложных сообществ, сделать выводы.\n",
    "5. Написать rest сервис на python к графовой БД в котором на вход поступает ФИО, на выходе graphml или json"
   ]
  },
  {
   "cell_type": "markdown",
   "id": "693b844c",
   "metadata": {},
   "source": [
    "# Считать данные из источника https://disk.yandex.ru/d/s6wWqd8Ol_5IvQ"
   ]
  },
  {
   "cell_type": "markdown",
   "id": "b1d10722",
   "metadata": {},
   "source": [
    "Для загрузки данных необходимо именно скачать файл, так как ссылка имеет лимит скачиваний. \n",
    "Данные из файла идут с разделителем \";\" и далее их просмотр. \n",
    "Импортированы модули:"
   ]
  },
  {
   "cell_type": "code",
   "execution_count": 381,
   "id": "72076496",
   "metadata": {},
   "outputs": [],
   "source": [
    "import numpy as np\n",
    "import pandas as pd\n",
    "import json"
   ]
  },
  {
   "cell_type": "code",
   "execution_count": 379,
   "id": "1e6b3ce7",
   "metadata": {
    "scrolled": false
   },
   "outputs": [
    {
     "data": {
      "text/html": [
       "<div>\n",
       "<style scoped>\n",
       "    .dataframe tbody tr th:only-of-type {\n",
       "        vertical-align: middle;\n",
       "    }\n",
       "\n",
       "    .dataframe tbody tr th {\n",
       "        vertical-align: top;\n",
       "    }\n",
       "\n",
       "    .dataframe thead th {\n",
       "        text-align: right;\n",
       "    }\n",
       "</style>\n",
       "<table border=\"1\" class=\"dataframe\">\n",
       "  <thead>\n",
       "    <tr style=\"text-align: right;\">\n",
       "      <th></th>\n",
       "      <th>id события</th>\n",
       "      <th>ФИО участника события 1</th>\n",
       "      <th>ФИО участника события 2</th>\n",
       "    </tr>\n",
       "  </thead>\n",
       "  <tbody>\n",
       "    <tr>\n",
       "      <th>0</th>\n",
       "      <td>189</td>\n",
       "      <td>Галчевская Карина Владимировна</td>\n",
       "      <td>Белоновская Анастасия Семеновна</td>\n",
       "    </tr>\n",
       "    <tr>\n",
       "      <th>1</th>\n",
       "      <td>206</td>\n",
       "      <td>Офицеров Олег Романович</td>\n",
       "      <td>Сапожник Борис Валерьевич</td>\n",
       "    </tr>\n",
       "    <tr>\n",
       "      <th>2</th>\n",
       "      <td>445</td>\n",
       "      <td>Жандарова Лариса Германовна</td>\n",
       "      <td>Чемодуров Дамир Русланович</td>\n",
       "    </tr>\n",
       "    <tr>\n",
       "      <th>3</th>\n",
       "      <td>503</td>\n",
       "      <td>Масимова Яна Дамировна</td>\n",
       "      <td>Мингажетдинов Рамиль Семенович</td>\n",
       "    </tr>\n",
       "    <tr>\n",
       "      <th>4</th>\n",
       "      <td>571</td>\n",
       "      <td>Мухтарова Алена Яковлевна</td>\n",
       "      <td>Щербатенко Ольга Робертовна</td>\n",
       "    </tr>\n",
       "    <tr>\n",
       "      <th>...</th>\n",
       "      <td>...</td>\n",
       "      <td>...</td>\n",
       "      <td>...</td>\n",
       "    </tr>\n",
       "    <tr>\n",
       "      <th>4995</th>\n",
       "      <td>999333</td>\n",
       "      <td>Осташов Владимир Данилович</td>\n",
       "      <td>Чалов Илья Владимирович</td>\n",
       "    </tr>\n",
       "    <tr>\n",
       "      <th>4996</th>\n",
       "      <td>999360</td>\n",
       "      <td>Гандыбина Любовь Александровна</td>\n",
       "      <td>Мерлин Илья Юрьевич</td>\n",
       "    </tr>\n",
       "    <tr>\n",
       "      <th>4997</th>\n",
       "      <td>999403</td>\n",
       "      <td>Востоков Виктор Ильдарович</td>\n",
       "      <td>Аликас Никита Андреевич</td>\n",
       "    </tr>\n",
       "    <tr>\n",
       "      <th>4998</th>\n",
       "      <td>999405</td>\n",
       "      <td>Огарева Людмила Ильдаровна</td>\n",
       "      <td>Нагайцева Алина Степановна</td>\n",
       "    </tr>\n",
       "    <tr>\n",
       "      <th>4999</th>\n",
       "      <td>999878</td>\n",
       "      <td>Ряполовский Георгий Петрович</td>\n",
       "      <td>Жилейкин Виктор Павлович</td>\n",
       "    </tr>\n",
       "  </tbody>\n",
       "</table>\n",
       "<p>5000 rows × 3 columns</p>\n",
       "</div>"
      ],
      "text/plain": [
       "      id события         ФИО участника события 1  \\\n",
       "0            189  Галчевская Карина Владимировна   \n",
       "1            206         Офицеров Олег Романович   \n",
       "2            445     Жандарова Лариса Германовна   \n",
       "3            503          Масимова Яна Дамировна   \n",
       "4            571       Мухтарова Алена Яковлевна   \n",
       "...          ...                             ...   \n",
       "4995      999333      Осташов Владимир Данилович   \n",
       "4996      999360  Гандыбина Любовь Александровна   \n",
       "4997      999403      Востоков Виктор Ильдарович   \n",
       "4998      999405      Огарева Людмила Ильдаровна   \n",
       "4999      999878    Ряполовский Георгий Петрович   \n",
       "\n",
       "              ФИО участника события 2  \n",
       "0     Белоновская Анастасия Семеновна  \n",
       "1           Сапожник Борис Валерьевич  \n",
       "2          Чемодуров Дамир Русланович  \n",
       "3      Мингажетдинов Рамиль Семенович  \n",
       "4         Щербатенко Ольга Робертовна  \n",
       "...                               ...  \n",
       "4995          Чалов Илья Владимирович  \n",
       "4996              Мерлин Илья Юрьевич  \n",
       "4997          Аликас Никита Андреевич  \n",
       "4998       Нагайцева Алина Степановна  \n",
       "4999         Жилейкин Виктор Павлович  \n",
       "\n",
       "[5000 rows x 3 columns]"
      ]
     },
     "execution_count": 379,
     "metadata": {},
     "output_type": "execute_result"
    }
   ],
   "source": [
    "df=pd.read_csv(\"D:/DS/data_test.csv\", sep = ';')\n",
    "df"
   ]
  },
  {
   "cell_type": "markdown",
   "id": "5b27d74e",
   "metadata": {},
   "source": [
    "Смена названий колонок без потери смысла для удобства дальнейшей работы:"
   ]
  },
  {
   "cell_type": "code",
   "execution_count": 399,
   "id": "9ec42a69",
   "metadata": {
    "scrolled": true
   },
   "outputs": [
    {
     "data": {
      "text/html": [
       "<div>\n",
       "<style scoped>\n",
       "    .dataframe tbody tr th:only-of-type {\n",
       "        vertical-align: middle;\n",
       "    }\n",
       "\n",
       "    .dataframe tbody tr th {\n",
       "        vertical-align: top;\n",
       "    }\n",
       "\n",
       "    .dataframe thead th {\n",
       "        text-align: right;\n",
       "    }\n",
       "</style>\n",
       "<table border=\"1\" class=\"dataframe\">\n",
       "  <thead>\n",
       "    <tr style=\"text-align: right;\">\n",
       "      <th></th>\n",
       "      <th>event_id</th>\n",
       "      <th>person_1</th>\n",
       "      <th>person_2</th>\n",
       "    </tr>\n",
       "  </thead>\n",
       "  <tbody>\n",
       "    <tr>\n",
       "      <th>0</th>\n",
       "      <td>189</td>\n",
       "      <td>Галчевская Карина Владимировна</td>\n",
       "      <td>Белоновская Анастасия Семеновна</td>\n",
       "    </tr>\n",
       "    <tr>\n",
       "      <th>1</th>\n",
       "      <td>206</td>\n",
       "      <td>Офицеров Олег Романович</td>\n",
       "      <td>Сапожник Борис Валерьевич</td>\n",
       "    </tr>\n",
       "    <tr>\n",
       "      <th>2</th>\n",
       "      <td>445</td>\n",
       "      <td>Жандарова Лариса Германовна</td>\n",
       "      <td>Чемодуров Дамир Русланович</td>\n",
       "    </tr>\n",
       "    <tr>\n",
       "      <th>3</th>\n",
       "      <td>503</td>\n",
       "      <td>Масимова Яна Дамировна</td>\n",
       "      <td>Мингажетдинов Рамиль Семенович</td>\n",
       "    </tr>\n",
       "    <tr>\n",
       "      <th>4</th>\n",
       "      <td>571</td>\n",
       "      <td>Мухтарова Алена Яковлевна</td>\n",
       "      <td>Щербатенко Ольга Робертовна</td>\n",
       "    </tr>\n",
       "    <tr>\n",
       "      <th>...</th>\n",
       "      <td>...</td>\n",
       "      <td>...</td>\n",
       "      <td>...</td>\n",
       "    </tr>\n",
       "    <tr>\n",
       "      <th>4995</th>\n",
       "      <td>999333</td>\n",
       "      <td>Осташов Владимир Данилович</td>\n",
       "      <td>Чалов Илья Владимирович</td>\n",
       "    </tr>\n",
       "    <tr>\n",
       "      <th>4996</th>\n",
       "      <td>999360</td>\n",
       "      <td>Гандыбина Любовь Александровна</td>\n",
       "      <td>Мерлин Илья Юрьевич</td>\n",
       "    </tr>\n",
       "    <tr>\n",
       "      <th>4997</th>\n",
       "      <td>999403</td>\n",
       "      <td>Востоков Виктор Ильдарович</td>\n",
       "      <td>Аликас Никита Андреевич</td>\n",
       "    </tr>\n",
       "    <tr>\n",
       "      <th>4998</th>\n",
       "      <td>999405</td>\n",
       "      <td>Огарева Людмила Ильдаровна</td>\n",
       "      <td>Нагайцева Алина Степановна</td>\n",
       "    </tr>\n",
       "    <tr>\n",
       "      <th>4999</th>\n",
       "      <td>999878</td>\n",
       "      <td>Ряполовский Георгий Петрович</td>\n",
       "      <td>Жилейкин Виктор Павлович</td>\n",
       "    </tr>\n",
       "  </tbody>\n",
       "</table>\n",
       "<p>5000 rows × 3 columns</p>\n",
       "</div>"
      ],
      "text/plain": [
       "      event_id                        person_1  \\\n",
       "0          189  Галчевская Карина Владимировна   \n",
       "1          206         Офицеров Олег Романович   \n",
       "2          445     Жандарова Лариса Германовна   \n",
       "3          503          Масимова Яна Дамировна   \n",
       "4          571       Мухтарова Алена Яковлевна   \n",
       "...        ...                             ...   \n",
       "4995    999333      Осташов Владимир Данилович   \n",
       "4996    999360  Гандыбина Любовь Александровна   \n",
       "4997    999403      Востоков Виктор Ильдарович   \n",
       "4998    999405      Огарева Людмила Ильдаровна   \n",
       "4999    999878    Ряполовский Георгий Петрович   \n",
       "\n",
       "                             person_2  \n",
       "0     Белоновская Анастасия Семеновна  \n",
       "1           Сапожник Борис Валерьевич  \n",
       "2          Чемодуров Дамир Русланович  \n",
       "3      Мингажетдинов Рамиль Семенович  \n",
       "4         Щербатенко Ольга Робертовна  \n",
       "...                               ...  \n",
       "4995          Чалов Илья Владимирович  \n",
       "4996              Мерлин Илья Юрьевич  \n",
       "4997          Аликас Никита Андреевич  \n",
       "4998       Нагайцева Алина Степановна  \n",
       "4999         Жилейкин Виктор Павлович  \n",
       "\n",
       "[5000 rows x 3 columns]"
      ]
     },
     "execution_count": 399,
     "metadata": {},
     "output_type": "execute_result"
    }
   ],
   "source": [
    "df.columns = ['event_id', 'person_1', 'person_2']\n",
    "df"
   ]
  },
  {
   "cell_type": "markdown",
   "id": "69033ce9",
   "metadata": {},
   "source": [
    "Подсчет числа одинаковых элементов в колонках персон:"
   ]
  },
  {
   "cell_type": "code",
   "execution_count": 344,
   "id": "cf9ec37e",
   "metadata": {},
   "outputs": [
    {
     "name": "stdout",
     "output_type": "stream",
     "text": [
      "85\n"
     ]
    }
   ],
   "source": [
    "copy = 0\n",
    "for prob_copy_1 in df.person_1:\n",
    "    for prob_copy_2 in df.person_2:\n",
    "        if prob_copy_1==prob_copy_2:\n",
    "            copy = copy+1\n",
    "print(copy)"
   ]
  },
  {
   "cell_type": "markdown",
   "id": "6de82634",
   "metadata": {},
   "source": [
    "Выяснилось, что один и тот же человек может присутствовать с обеих колонках несколько раз. \n",
    "Глядя на данные, сразу хочется посмотреть, может ли один человек учавствовать в нескольких событиях и может ли конкретное событие проиходить с более чем двумя людьми. Если это так, тогда значения в колонках будут повторятся.\n",
    "При этом не будет пустых значений в отдельных ячейках."
   ]
  },
  {
   "cell_type": "code",
   "execution_count": 382,
   "id": "be259ab3",
   "metadata": {
    "scrolled": true
   },
   "outputs": [
    {
     "name": "stdout",
     "output_type": "stream",
     "text": [
      "[14909, id события                 4985\n",
      "ФИО участника события 1    4930\n",
      "ФИО участника события 2    4994\n",
      "dtype: int64, id события                 5000\n",
      "ФИО участника события 1    5000\n",
      "ФИО участника события 2    5000\n",
      "dtype: int64]\n"
     ]
    }
   ],
   "source": [
    "print ([df.nunique().sum(), df.nunique(), df.isnull().count()])"
   ]
  },
  {
   "cell_type": "markdown",
   "id": "6c006dd7",
   "metadata": {},
   "source": [
    "# Внести данные из таблицы в графовую БД"
   ]
  },
  {
   "cell_type": "markdown",
   "id": "4b07bbcb",
   "metadata": {
    "scrolled": true
   },
   "source": [
    "Для реализации графового построения необходимо подготовить датафрейм к импорту в среду neo4j:\n",
    " - Установить neo4j;\n",
    " - Заменить кириллическое представление сущностей в датафрейме на латиницу для корректного отображения графа"
   ]
  },
  {
   "cell_type": "code",
   "execution_count": 400,
   "id": "f9db0ee7",
   "metadata": {},
   "outputs": [],
   "source": [
    "import unidecode"
   ]
  },
  {
   "cell_type": "code",
   "execution_count": 401,
   "id": "3ef1198d",
   "metadata": {
    "scrolled": true
   },
   "outputs": [
    {
     "data": {
      "text/html": [
       "<div>\n",
       "<style scoped>\n",
       "    .dataframe tbody tr th:only-of-type {\n",
       "        vertical-align: middle;\n",
       "    }\n",
       "\n",
       "    .dataframe tbody tr th {\n",
       "        vertical-align: top;\n",
       "    }\n",
       "\n",
       "    .dataframe thead th {\n",
       "        text-align: right;\n",
       "    }\n",
       "</style>\n",
       "<table border=\"1\" class=\"dataframe\">\n",
       "  <thead>\n",
       "    <tr style=\"text-align: right;\">\n",
       "      <th></th>\n",
       "      <th>event_id</th>\n",
       "      <th>person_1</th>\n",
       "      <th>person_2</th>\n",
       "    </tr>\n",
       "  </thead>\n",
       "  <tbody>\n",
       "    <tr>\n",
       "      <th>0</th>\n",
       "      <td>189</td>\n",
       "      <td>Galchevskaia Karina Vladimirovna</td>\n",
       "      <td>Belonovskaia Anastasiia Semenovna</td>\n",
       "    </tr>\n",
       "    <tr>\n",
       "      <th>1</th>\n",
       "      <td>206</td>\n",
       "      <td>Ofitserov Oleg Romanovich</td>\n",
       "      <td>Sapozhnik Boris Valer'evich</td>\n",
       "    </tr>\n",
       "    <tr>\n",
       "      <th>2</th>\n",
       "      <td>445</td>\n",
       "      <td>Zhandarova Larisa Germanovna</td>\n",
       "      <td>Chemodurov Damir Ruslanovich</td>\n",
       "    </tr>\n",
       "    <tr>\n",
       "      <th>3</th>\n",
       "      <td>503</td>\n",
       "      <td>Masimova Iana Damirovna</td>\n",
       "      <td>Mingazhetdinov Ramil' Semenovich</td>\n",
       "    </tr>\n",
       "    <tr>\n",
       "      <th>4</th>\n",
       "      <td>571</td>\n",
       "      <td>Mukhtarova Alena Iakovlevna</td>\n",
       "      <td>Shcherbatenko Ol'ga Robertovna</td>\n",
       "    </tr>\n",
       "    <tr>\n",
       "      <th>...</th>\n",
       "      <td>...</td>\n",
       "      <td>...</td>\n",
       "      <td>...</td>\n",
       "    </tr>\n",
       "    <tr>\n",
       "      <th>4995</th>\n",
       "      <td>999333</td>\n",
       "      <td>Ostashov Vladimir Danilovich</td>\n",
       "      <td>Chalov Il'ia Vladimirovich</td>\n",
       "    </tr>\n",
       "    <tr>\n",
       "      <th>4996</th>\n",
       "      <td>999360</td>\n",
       "      <td>Gandybina Liubov' Aleksandrovna</td>\n",
       "      <td>Merlin Il'ia Iur'evich</td>\n",
       "    </tr>\n",
       "    <tr>\n",
       "      <th>4997</th>\n",
       "      <td>999403</td>\n",
       "      <td>Vostokov Viktor Il'darovich</td>\n",
       "      <td>Alikas Nikita Andreevich</td>\n",
       "    </tr>\n",
       "    <tr>\n",
       "      <th>4998</th>\n",
       "      <td>999405</td>\n",
       "      <td>Ogareva Liudmila Il'darovna</td>\n",
       "      <td>Nagaitseva Alina Stepanovna</td>\n",
       "    </tr>\n",
       "    <tr>\n",
       "      <th>4999</th>\n",
       "      <td>999878</td>\n",
       "      <td>Riapolovskii Georgii Petrovich</td>\n",
       "      <td>Zhileikin Viktor Pavlovich</td>\n",
       "    </tr>\n",
       "  </tbody>\n",
       "</table>\n",
       "<p>5000 rows × 3 columns</p>\n",
       "</div>"
      ],
      "text/plain": [
       "      event_id                          person_1  \\\n",
       "0          189  Galchevskaia Karina Vladimirovna   \n",
       "1          206         Ofitserov Oleg Romanovich   \n",
       "2          445      Zhandarova Larisa Germanovna   \n",
       "3          503           Masimova Iana Damirovna   \n",
       "4          571       Mukhtarova Alena Iakovlevna   \n",
       "...        ...                               ...   \n",
       "4995    999333      Ostashov Vladimir Danilovich   \n",
       "4996    999360   Gandybina Liubov' Aleksandrovna   \n",
       "4997    999403       Vostokov Viktor Il'darovich   \n",
       "4998    999405       Ogareva Liudmila Il'darovna   \n",
       "4999    999878    Riapolovskii Georgii Petrovich   \n",
       "\n",
       "                               person_2  \n",
       "0     Belonovskaia Anastasiia Semenovna  \n",
       "1           Sapozhnik Boris Valer'evich  \n",
       "2          Chemodurov Damir Ruslanovich  \n",
       "3      Mingazhetdinov Ramil' Semenovich  \n",
       "4        Shcherbatenko Ol'ga Robertovna  \n",
       "...                                 ...  \n",
       "4995         Chalov Il'ia Vladimirovich  \n",
       "4996             Merlin Il'ia Iur'evich  \n",
       "4997           Alikas Nikita Andreevich  \n",
       "4998        Nagaitseva Alina Stepanovna  \n",
       "4999         Zhileikin Viktor Pavlovich  \n",
       "\n",
       "[5000 rows x 3 columns]"
      ]
     },
     "execution_count": 401,
     "metadata": {},
     "output_type": "execute_result"
    }
   ],
   "source": [
    "for i in range(len(df)):\n",
    "    df.loc[i, 'person_1'] = unidecode.unidecode(df['person_1'][i])\n",
    "    df.loc[i, 'person_2'] = unidecode.unidecode(df['person_2'][i])\n",
    "df"
   ]
  },
  {
   "cell_type": "markdown",
   "id": "db2fb0c2",
   "metadata": {},
   "source": [
    "Датафрейм был сохранен в новый файл *.csv:"
   ]
  },
  {
   "cell_type": "code",
   "execution_count": 383,
   "id": "c06e1260",
   "metadata": {},
   "outputs": [],
   "source": [
    "df.to_csv('dataset_test.csv', index=False)"
   ]
  },
  {
   "cell_type": "markdown",
   "id": "4f4d7e32",
   "metadata": {},
   "source": [
    "Для импорта датафрейма в neo4j необходимо импортировать модули GraphDatabase, basic_auth из neo4j. \n",
    "Для построения визуального представления импортирован GraphWidget."
   ]
  },
  {
   "cell_type": "code",
   "execution_count": 384,
   "id": "24ec4613",
   "metadata": {},
   "outputs": [],
   "source": [
    "#pip install yfiles_jupyter_graphs\n",
    "from neo4j import GraphDatabase, basic_auth\n",
    "from yfiles_jupyter_graphs import GraphWidget"
   ]
  },
  {
   "cell_type": "markdown",
   "id": "08b4808c",
   "metadata": {},
   "source": [
    "# Построить графовое представление, сделать несколько запросов, провести анализ сообществ"
   ]
  },
  {
   "cell_type": "markdown",
   "id": "029141db",
   "metadata": {},
   "source": [
    "Предварительно в среде Neo4j Desktop была создана пустая база данных. \n",
    "Создан драйвер для подключения в среде jupiter"
   ]
  },
  {
   "cell_type": "code",
   "execution_count": 345,
   "id": "ae56a046",
   "metadata": {},
   "outputs": [],
   "source": [
    "driver = GraphDatabase.driver(\"bolt://localhost:7687\", auth=(\"neo4j\", \"12345678\"))"
   ]
  },
  {
   "cell_type": "markdown",
   "id": "20fc4844",
   "metadata": {},
   "source": [
    "Непосредтственно импорт в базу происходит по запросу на языке Cypher. \n",
    "В этом запросе создаются вершины и связи между вершинами на основе датафрейма. Вершинами являются события и персоны. \n",
    "Если вершина с таким же 'Name' была создана ранее, то новая не создается. "
   ]
  },
  {
   "cell_type": "code",
   "execution_count": 346,
   "id": "86bcc09b",
   "metadata": {},
   "outputs": [],
   "source": [
    "query_import = '''\n",
    "LOAD CSV FROM 'file:///dataset_test.csv' as line\n",
    "FIELDTERMINATOR ','\n",
    "     MERGE (n:event{Name: line[0]})\n",
    "     MERGE (m:person{Name: line[1]})\n",
    "     MERGE (s:person{Name: line[2]})\n",
    "     MERGE (m)-[:R]->(n) \n",
    "     MERGE (s)-[:R]->(n)\n",
    "'''              "
   ]
  },
  {
   "cell_type": "markdown",
   "id": "947be80b",
   "metadata": {},
   "source": [
    "В этой сессии реализуется запрос 'query_import'."
   ]
  },
  {
   "cell_type": "code",
   "execution_count": 347,
   "id": "ab0b92e4",
   "metadata": {
    "scrolled": true
   },
   "outputs": [
    {
     "data": {
      "text/plain": [
       "<neo4j._sync.work.result.Result at 0x21570f38e20>"
      ]
     },
     "execution_count": 347,
     "metadata": {},
     "output_type": "execute_result"
    }
   ],
   "source": [
    "session = driver.session()\n",
    "session.run(query_import)"
   ]
  },
  {
   "cell_type": "markdown",
   "id": "34c1e78f",
   "metadata": {},
   "source": [
    "Проверка количества уникальных вершин, загруженных в базу. "
   ]
  },
  {
   "cell_type": "code",
   "execution_count": 348,
   "id": "8e7bfab3",
   "metadata": {
    "scrolled": true
   },
   "outputs": [
    {
     "name": "stdout",
     "output_type": "stream",
     "text": [
      "14884\n"
     ]
    }
   ],
   "source": [
    "query_check = '''\n",
    "MATCH (n) \n",
    "RETURN count(n)\n",
    "'''\n",
    "answer = session.run(query_check)\n",
    "print (answer.single()['count(n)'])"
   ]
  },
  {
   "cell_type": "markdown",
   "id": "2694d0ee",
   "metadata": {},
   "source": [
    "Предварительный эвристический анализ датафрейма предполагает наличие сообществ. Необходимо найти эти сообщества. \n",
    "Составляется запрос, который \"выкидывает\" из результата persons и events, которые одновременно удовлетворяют \n",
    "следующему условию: person имеет только одно отношение и event который имеет только два отношения. \n",
    "Этот запрос выведет вершины и отношения, задействованные в сообществах. Предварительно они помечены как INTER. \n",
    "Остальное не представляет интереса для анализа. "
   ]
  },
  {
   "cell_type": "code",
   "execution_count": 349,
   "id": "da8bd9e2",
   "metadata": {},
   "outputs": [],
   "source": [
    "query_label_event = '''\n",
    "MATCH (n)-[b]-(e:event)\n",
    "WITH e, count(b) AS con\n",
    "WHERE con > 2\n",
    "SET e:INTER\n",
    "'''\n",
    "session.run(query_label_event)\n",
    "\n",
    "query_label_node = '''\n",
    "MATCH (n)-[b]-(e:event)\n",
    "WITH n, count(b) AS con\n",
    "WHERE con > 1\n",
    "SET n:INTER\n",
    "'''\n",
    "session.run(query_label_node)\n",
    "\n",
    "query_out_INTER = '''\n",
    "MATCH  (m)-[a]-(e:event)-[b*]-(x)\n",
    "WHERE m:INTER OR e:INTER\n",
    "RETURN (m), (e), (x), (a), (b)\n",
    "'''\n",
    "\n",
    "graph = session.run(query_out_INTER).graph()\n",
    "w = GraphWidget(graph = graph)"
   ]
  },
  {
   "cell_type": "markdown",
   "id": "49fe1454",
   "metadata": {},
   "source": [
    "Словарь с визуальными свойствами графа"
   ]
  },
  {
   "cell_type": "code",
   "execution_count": 350,
   "id": "f8ffa014",
   "metadata": {},
   "outputs": [],
   "source": [
    "styles = {\n",
    "    'event':{'color': '#6C7400', 'shape': 'ellipse', 'label':'Name'},\n",
    "    'person':{'color': '#005977', 'shape': 'octagon', 'label':'Name'}\n",
    "}"
   ]
  },
  {
   "cell_type": "markdown",
   "id": "ddb82c33",
   "metadata": {},
   "source": [
    "\"Наделение\" свойствами визуализиемого графа"
   ]
  },
  {
   "cell_type": "code",
   "execution_count": 351,
   "id": "70d2c523",
   "metadata": {},
   "outputs": [],
   "source": [
    "w.set_node_styles_mapping(lambda index, node: styles.get(node['properties']['label'], {}))\n",
    "w.set_node_label_mapping(lambda index, node: node['properties']['Name'])"
   ]
  },
  {
   "cell_type": "code",
   "execution_count": 352,
   "id": "4ff4e166",
   "metadata": {},
   "outputs": [
    {
     "data": {
      "text/plain": [
       "280"
      ]
     },
     "execution_count": 352,
     "metadata": {},
     "output_type": "execute_result"
    }
   ],
   "source": [
    "len(w.nodes)"
   ]
  },
  {
   "cell_type": "code",
   "execution_count": 353,
   "id": "87acd97f",
   "metadata": {},
   "outputs": [
    {
     "data": {
      "text/plain": [
       "264"
      ]
     },
     "execution_count": 353,
     "metadata": {},
     "output_type": "execute_result"
    }
   ],
   "source": [
    "len(w.edges)"
   ]
  },
  {
   "cell_type": "code",
   "execution_count": 354,
   "id": "4dd41af1",
   "metadata": {},
   "outputs": [
    {
     "data": {
      "application/vnd.jupyter.widget-view+json": {
       "model_id": "bfa8e6becc1147508a13782be37f2f9a",
       "version_major": 2,
       "version_minor": 0
      },
      "text/plain": [
       "GraphWidget(layout=Layout(height='500px', width='100%'))"
      ]
     },
     "metadata": {},
     "output_type": "display_data"
    }
   ],
   "source": [
    "w.show()"
   ]
  },
  {
   "cell_type": "markdown",
   "id": "5a8830b5",
   "metadata": {},
   "source": [
    "Визуально было обнаружено 20 сообществ. Под сообществом понимается связанная структура из более чем одного события или более чем двух персон. В некоторых сообществах есть персоны - лидеры, однако большинство сообществ небольшие и центральным объектом таких небольших сообществ является событие. На следующем этапе анализа из графового представления выделены только минимальные сообщества. Алгоритм их выделения показан в запросе query_min_social"
   ]
  },
  {
   "cell_type": "markdown",
   "id": "913af877",
   "metadata": {},
   "source": [
    "Выглядят маленькие сообщества одинаково. Визуальный пример одного такого маленького сообщества."
   ]
  },
  {
   "cell_type": "code",
   "execution_count": 355,
   "id": "df482cb6",
   "metadata": {
    "scrolled": true
   },
   "outputs": [
    {
     "data": {
      "application/vnd.jupyter.widget-view+json": {
       "model_id": "744a87bf5cc641e1b9b523c8542663a8",
       "version_major": 2,
       "version_minor": 0
      },
      "text/plain": [
       "GraphWidget(layout=Layout(height='500px', width='100%'))"
      ]
     },
     "metadata": {},
     "output_type": "display_data"
    }
   ],
   "source": [
    "query_min_social_example = '''\n",
    "MATCH  (e:event {Name: '70049'})<-[m]-(x)\n",
    "RETURN  e, x, m \n",
    "'''\n",
    "session = driver.session()\n",
    "graph = session.run(query_min_social_example).graph()\n",
    "xmp = GraphWidget(graph = graph)\n",
    "xmp.set_node_label_mapping(lambda index, node: node['properties']['Name'])\n",
    "xmp.show()"
   ]
  },
  {
   "cell_type": "markdown",
   "id": "1e7ca349",
   "metadata": {},
   "source": [
    "Вывод списка с номером минимального сообщества и его участниками. \n",
    "Номер сообщества - это номер события, \"вокруг\" которого собрались участники.\n",
    "Это маленькие сообщества без лидера. Стоит отметить, что сообщество 'Name': '850472'\n",
    "попало с список минимальных, но также оно является частью большого сообщества. "
   ]
  },
  {
   "cell_type": "code",
   "execution_count": 356,
   "id": "f0b306b0",
   "metadata": {},
   "outputs": [
    {
     "data": {
      "text/plain": [
       "[{'Name': '70049',\n",
       "  'prt': [{'Name': 'Fedova Anzhelika Vadimovna'},\n",
       "   {'Name': \"Iashina Polina Evgen'evna\"},\n",
       "   {'Name': \"Val'dovskii Al'bert Efimovich\"},\n",
       "   {'Name': 'Gerasimovskaia Kseniia Damirovna'}]},\n",
       " {'Name': '92995',\n",
       "  'prt': [{'Name': \"Kucherenko Irina Il'inichna\"},\n",
       "   {'Name': \"Bad'ianova Rimma Maksimovna\"},\n",
       "   {'Name': 'Boltik Grigorii Maksimovich'},\n",
       "   {'Name': \"Zhurik Al'bert Evgen'evich\"}]},\n",
       " {'Name': '117280',\n",
       "  'prt': [{'Name': \"Utochkin Evgenii Anatol'evich\"},\n",
       "   {'Name': 'Kaganovich Liliia Petrovna'},\n",
       "   {'Name': 'Gaisumov Viktor Timurovich'},\n",
       "   {'Name': 'Volynskii Kirill Fedorovich'}]},\n",
       " {'Name': '177407',\n",
       "  'prt': [{'Name': 'Zelinskii Gennadii Arturovich'},\n",
       "   {'Name': 'Buzhaninov Ruslan Arturovich'},\n",
       "   {'Name': 'Sorokovoi German Maratovich'},\n",
       "   {'Name': \"Zazorin Vadim Arkad'evich\"}]},\n",
       " {'Name': '358194',\n",
       "  'prt': [{'Name': 'Serpukhova Alla Iaroslavovna'},\n",
       "   {'Name': \"Brusentsova Dar'ia Mikhailovna\"},\n",
       "   {'Name': 'Dolgikh Liliia Vadimovna'},\n",
       "   {'Name': 'Noeva Galina Stepanovna'}]},\n",
       " {'Name': '390312',\n",
       "  'prt': [{'Name': \"Okhotsimskaia Viktoriia Evgen'evna\"},\n",
       "   {'Name': 'Khilin Fedor Fedorovich'},\n",
       "   {'Name': 'Namazova Evgeniia Dmitrievna'},\n",
       "   {'Name': \"Grigor'evykh Pavel Leonidovich\"}]},\n",
       " {'Name': '523688',\n",
       "  'prt': [{'Name': 'Batskikh Egor Olegovich'},\n",
       "   {'Name': 'Botianovskaia Antonina Danilovna'},\n",
       "   {'Name': 'Pamfilova Tamara Danilovna'},\n",
       "   {'Name': 'Barilov Roman Filippovich'}]},\n",
       " {'Name': '551592',\n",
       "  'prt': [{'Name': \"Solonchenko Karina Vasil'evna\"},\n",
       "   {'Name': 'Nugumanov Efim Andreevich'},\n",
       "   {'Name': \"Zakhar'eva Irina Denisovna\"},\n",
       "   {'Name': 'Vybornov Dmitrii Dmitrievich'}]},\n",
       " {'Name': '613539',\n",
       "  'prt': [{'Name': 'Gavrilenko Gleb Marselevich'},\n",
       "   {'Name': \"Sakhnova Tamara Vasil'evna\"},\n",
       "   {'Name': \"Ganenko El'mira Stepanovna\"},\n",
       "   {'Name': 'Kishenin Stanislav Georgievich'}]},\n",
       " {'Name': '716489',\n",
       "  'prt': [{'Name': 'Arsenchuk Ruslan Denisovich'},\n",
       "   {'Name': 'Shtin Maksim Ruslanovich'},\n",
       "   {'Name': \"Adel'khanova Elena Petrovna\"},\n",
       "   {'Name': 'Panteliukhina Larisa Viacheslavovna'}]},\n",
       " {'Name': '765223',\n",
       "  'prt': [{'Name': \"Savluk Marsel' Vladimirovich\"},\n",
       "   {'Name': 'Babosov Mikhail Konstantinovich'},\n",
       "   {'Name': \"Guleva Marina Vital'evna\"},\n",
       "   {'Name': 'Atamkulova Mariia Andreevna'}]},\n",
       " {'Name': '850472',\n",
       "  'prt': [{'Name': 'Borchin Pavel Robertovich'},\n",
       "   {'Name': 'Akhromeeva Alina Ivanovna'},\n",
       "   {'Name': \"Larishchev Il'ia Aleksandrovich\"},\n",
       "   {'Name': 'Strik Elina Marselevna'}]},\n",
       " {'Name': '873359',\n",
       "  'prt': [{'Name': \"Iakimikhina Natal'ia Ianovna\"},\n",
       "   {'Name': 'Starovoitov Viacheslav Pavlovich'},\n",
       "   {'Name': \"Ulissov Marsel' Eduardovich\"},\n",
       "   {'Name': \"Dzhanibekov Nikita Iur'evich\"}]},\n",
       " {'Name': '938764',\n",
       "  'prt': [{'Name': \"Khrisogonov Ivan Gennad'evich\"},\n",
       "   {'Name': 'Samolov Mikhail Alekseevich'},\n",
       "   {'Name': 'Dvigubskaia Iana Ivanovna'},\n",
       "   {'Name': 'Soltaganov Fedor Efimovich'}]},\n",
       " {'Name': '985851',\n",
       "  'prt': [{'Name': \"Pavliukova Natal'ia Fedorovna\"},\n",
       "   {'Name': \"Kleban Igor' Glebovich\"},\n",
       "   {'Name': 'Lipunova Galina Rinatovna'},\n",
       "   {'Name': \"Notkina Al'bina Mikhailovna\"}]}]"
      ]
     },
     "execution_count": 356,
     "metadata": {},
     "output_type": "execute_result"
    }
   ],
   "source": [
    "query_min_social = '''\n",
    "MATCH  (e:INTER)<-[*]-(x)\n",
    "WITH e.Name AS Name, collect (x) AS prt\n",
    "RETURN  Name, prt \n",
    "'''\n",
    "session = driver.session()\n",
    "min_social = session.run(query_min_social) \n",
    "min_social.data()"
   ]
  },
  {
   "cell_type": "markdown",
   "id": "db9efb95",
   "metadata": {},
   "source": [
    "Далее необходимо рассмотреть большие сложные сообщества "
   ]
  },
  {
   "cell_type": "code",
   "execution_count": 357,
   "id": "e46f0c55",
   "metadata": {},
   "outputs": [
    {
     "data": {
      "application/vnd.jupyter.widget-view+json": {
       "model_id": "f1e3bbac43a64acf94d4d094ade72ace",
       "version_major": 2,
       "version_minor": 0
      },
      "text/plain": [
       "GraphWidget(layout=Layout(height='500px', width='100%'))"
      ]
     },
     "metadata": {},
     "output_type": "display_data"
    }
   ],
   "source": [
    "\"\"\"Визуализация только сложных сообществ\"\"\"\n",
    "query_max_social_graph = '''\n",
    "MATCH  (m:INTER)-[b*]-(e:event)-[a*]-(x:person)\n",
    "RETURN *\n",
    "'''\n",
    "graph = session.run(query_max_social_graph).graph()\n",
    "s_max = GraphWidget(graph = graph)\n",
    "s_max.set_node_styles_mapping(lambda index, node: styles.get(node['properties']['label'], {}))\n",
    "s_max.set_node_label_mapping(lambda index, node: node['properties']['Name'])\n",
    "s_max.show()"
   ]
  },
  {
   "cell_type": "markdown",
   "id": "f243f1a0",
   "metadata": {},
   "source": [
    "Визуально можно выделить 6 сложных сообществ. Их перечень представлен ниже.\n",
    "Внутри этих сообществ следует выделить лидера. Под лидерами понимаются персоны, \n",
    "обладающие более чем одной связью с событиями и другими персонами.  \n",
    "Далее рассмотрено каждое сообщество отдельно. В сложных сообществах может не быть явного лидера и для полноценного\n",
    "анализа стоит учитывать контекст данных, чтобы определить заранее перечень ролей для отдельных персон. "
   ]
  },
  {
   "cell_type": "markdown",
   "id": "9bf1a5af",
   "metadata": {},
   "source": [
    "Список ключевых участников каждого из шести сообществ. Эти персоны были помечены как имеющие более одной связи.\n",
    "Далее каждое из сложных сообществ будет проанализировано отдельно и для его построения будет применено имя \n",
    "персоны из списка. "
   ]
  },
  {
   "cell_type": "code",
   "execution_count": 358,
   "id": "349a8b51",
   "metadata": {},
   "outputs": [
    {
     "data": {
      "text/plain": [
       "[['Akhromeeva Alina Ivanovna'],\n",
       " ['Bashnina Antonina Glebovna'],\n",
       " ['Pafomova Kira Vadimovna'],\n",
       " ['Zimnukhova Karina Danilovna'],\n",
       " [\"Medvedeva Dar'ia Alekseevna\"],\n",
       " ['Nedoveskov Vladimir Ivanovich'],\n",
       " [\"Sholokhov Igor' Robertovich\"],\n",
       " ['Danilenko Vladimir Semenovich'],\n",
       " [\"Mailina Gul'nara Ivanovna\"],\n",
       " ['Anikhnova Tamara Ruslanovna'],\n",
       " [\"Dvigubskaia Valentina Gennad'evna\"],\n",
       " [\"Diomidov Igor' Il'darovich\"],\n",
       " ['Ivashev Viacheslav Igorevich'],\n",
       " ['Nagaitseva Anzhelika Ianovna'],\n",
       " ['Radionova Tamara Iaroslavovna'],\n",
       " ['Batievskaia Angelina Romanovna'],\n",
       " [\"Iatskoi Robert Il'darovich\"],\n",
       " ['Troekurov Gleb Efimovich'],\n",
       " [\"Kaekhtin Il'dar Eduardovich\"],\n",
       " ['Torgunakov Roman Kirillovich'],\n",
       " ['Dorozhkin Anatolii Egorovich'],\n",
       " ['Podolian Vladislav Denisovich'],\n",
       " ['Poskrebyshev Iakov Dmitrievich'],\n",
       " [\"Ryskina El'mira Ivanovna\"],\n",
       " ['Liaudanskii Valentin Vladislavovich'],\n",
       " [\"Marakhovskaia Dar'ia Romanovna\"],\n",
       " ['Bugaichuk Roman Eduardovich']]"
      ]
     },
     "execution_count": 358,
     "metadata": {},
     "output_type": "execute_result"
    }
   ],
   "source": [
    "query_list_lead = '''\n",
    "MATCH  (m:INTER)-[a]->(e:event)-[*]-(x)\n",
    "RETURN DISTINCT (m) AS lead\n",
    "'''\n",
    "leads = session.run(query_list_lead).data()\n",
    "lead_list = []\n",
    "for i in leads: \n",
    "    Name_lead = i.values()\n",
    "    Name_lead = list(Name_lead)[0].values()\n",
    "    lead_list.append(list(Name_lead))\n",
    "lead_list"
   ]
  },
  {
   "cell_type": "markdown",
   "id": "81230a51",
   "metadata": {},
   "source": [
    "Визуализация и состав первого сообщества: "
   ]
  },
  {
   "cell_type": "code",
   "execution_count": 359,
   "id": "781367f7",
   "metadata": {},
   "outputs": [
    {
     "data": {
      "application/vnd.jupyter.widget-view+json": {
       "model_id": "9eae861612664aa69cf56f32fb755c38",
       "version_major": 2,
       "version_minor": 0
      },
      "text/plain": [
       "GraphWidget(layout=Layout(height='500px', width='100%'))"
      ]
     },
     "metadata": {},
     "output_type": "display_data"
    }
   ],
   "source": [
    "query_social_1 = '''\n",
    "MATCH  (m:INTER {Name:'Akhromeeva Alina Ivanovna'})-[b]->(e:event)-[a*]-(x) \n",
    "RETURN *\n",
    "'''\n",
    "session = driver.session()\n",
    "graph = session.run(query_social_1).graph()\n",
    "s1 = GraphWidget(graph = graph)\n",
    "s1.set_node_styles_mapping(lambda index, node: styles.get(node['properties']['label'], {}))\n",
    "s1.set_node_label_mapping(lambda index, node: node['properties']['Name'])\n",
    "s1.show()"
   ]
  },
  {
   "cell_type": "code",
   "execution_count": 361,
   "id": "6c7b8c26",
   "metadata": {},
   "outputs": [
    {
     "data": {
      "text/plain": [
       "[{'lead': {'Name': 'Akhromeeva Alina Ivanovna'},\n",
       "  'degree': 52,\n",
       "  'partiсipant': [{'Name': \"Nepomniashchikh Il'ia Damirovich\"},\n",
       "   {'Name': 'Netuzhilova Elena Viktorovna'},\n",
       "   {'Name': 'Borgolov Evgenii Maratovich'},\n",
       "   {'Name': 'Shchurupova Alla Filippovna'},\n",
       "   {'Name': 'Chikireva Mariia Romanovna'},\n",
       "   {'Name': \"Bugaenkova Karina Arkad'evna\"},\n",
       "   {'Name': \"Abarenov Il'dar Robertovich\"},\n",
       "   {'Name': 'Solomeina Kristina Georgievna'},\n",
       "   {'Name': 'Salagaev Ivan Ramilevich'},\n",
       "   {'Name': 'Bekreva Viktoriia Iakovlevna'},\n",
       "   {'Name': 'Kamilov Damir Pavlovich'},\n",
       "   {'Name': \"Bordachev Nikita Vasil'evich\"},\n",
       "   {'Name': \"Sarsadskikh Alena Gennad'evna\"},\n",
       "   {'Name': \"Akodes Efim Anatol'evich\"},\n",
       "   {'Name': \"Chechin Ramil' Konstantinovich\"},\n",
       "   {'Name': \"Shovkovskaia Natal'ia Nikolaevna\"},\n",
       "   {'Name': \"Shchennikov Dmitrii Grigor'evich\"},\n",
       "   {'Name': 'Soloveichikov Oleg Pavlovich'},\n",
       "   {'Name': 'Kamchadalov Artem Iaroslavovich'},\n",
       "   {'Name': 'Urmantseva Evgeniia Olegovna'},\n",
       "   {'Name': 'Aidamirova Karina Antonovna'},\n",
       "   {'Name': 'Blizniakov Ivan Artemovich'},\n",
       "   {'Name': 'Domogarov Anton Maksimovich'},\n",
       "   {'Name': 'Belogorlov Damir Kirillovich'},\n",
       "   {'Name': 'Arbachakov Filipp Andreevich'},\n",
       "   {'Name': 'Alipichev Evgenii Timurovich'},\n",
       "   {'Name': 'Tolkunova Valentina Maratovna'},\n",
       "   {'Name': 'Zhubanov Anatolii Ivanovich'},\n",
       "   {'Name': 'Borchin Pavel Robertovich'},\n",
       "   {'Name': \"Larishchev Il'ia Aleksandrovich\"},\n",
       "   {'Name': 'Strik Elina Marselevna'},\n",
       "   {'Name': 'Guzhov Gleb Danilovich'},\n",
       "   {'Name': 'Starukhin Damir Maratovich'},\n",
       "   {'Name': 'Rasulev Nikita Petrovich'},\n",
       "   {'Name': 'Tiazhlov Rinat Vladislavovich'},\n",
       "   {'Name': \"Oshurov Pavel Il'darovich\"},\n",
       "   {'Name': 'Kutasov Konstantin Sergeevich'},\n",
       "   {'Name': 'Dudykina Mariia Romanovna'},\n",
       "   {'Name': 'Dumler Liudmila Viacheslavovna'},\n",
       "   {'Name': 'Kovshov Gleb Germanovich'},\n",
       "   {'Name': 'Andrievskaia Marina Rinatovna'},\n",
       "   {'Name': \"Preobrazhenskaia Kira Al'bertovna\"},\n",
       "   {'Name': \"Shal'nova Ol'ga Vladimirovna\"},\n",
       "   {'Name': 'Bobretsova Svetlana Artemovna'},\n",
       "   {'Name': \"Selin Fedor Il'ich\"},\n",
       "   {'Name': 'Ianikeev Viacheslav Ruslanovich'},\n",
       "   {'Name': \"Saidenov Ivan Valer'evich\"},\n",
       "   {'Name': 'Muzalevskaia Angelina Fedorovna'},\n",
       "   {'Name': \"Iashchukova Liubov' Efimovna\"},\n",
       "   {'Name': \"Aksanova Kristina Grigor'evna\"},\n",
       "   {'Name': 'Bodriakova Evgeniia Ianovna'},\n",
       "   {'Name': 'Vokhmentsev Vladimir Vladislavovich'}]}]"
      ]
     },
     "execution_count": 361,
     "metadata": {},
     "output_type": "execute_result"
    }
   ],
   "source": [
    "query_social_1_list = '''MATCH (m:INTER{Name:'Akhromeeva Alina Ivanovna'})-[*]-(e:event)-[a*]-(x)\n",
    "WITH m AS lead, count(x) AS degree, collect(x) AS partiсipant\n",
    "RETURN lead, degree, partiсipant'''\n",
    "\n",
    "participant_1= session.run(query_social_1_list).data()\n",
    "participant_1"
   ]
  },
  {
   "cell_type": "code",
   "execution_count": 362,
   "id": "884fb69c",
   "metadata": {},
   "outputs": [
    {
     "data": {
      "application/vnd.jupyter.widget-view+json": {
       "model_id": "ebd22615945943f4a273155ccd08895c",
       "version_major": 2,
       "version_minor": 0
      },
      "text/plain": [
       "GraphWidget(layout=Layout(height='500px', width='100%'))"
      ]
     },
     "metadata": {},
     "output_type": "display_data"
    }
   ],
   "source": [
    "query_social_2 = '''\n",
    "MATCH  (m:INTER {Name:'Bashnina Antonina Glebovna'})-[b]->(e:event)-[a*]-(x) \n",
    "RETURN *\n",
    "'''\n",
    "session = driver.session()\n",
    "graph = session.run(query_social_2).graph()\n",
    "s2 = GraphWidget(graph = graph)\n",
    "s2.set_node_label_mapping(lambda index, node: node['properties']['Name'])\n",
    "s2.set_node_styles_mapping(lambda index, node: styles.get(node['properties']['label'], {}))\n",
    "s2.show()"
   ]
  },
  {
   "cell_type": "code",
   "execution_count": 364,
   "id": "116a2ccc",
   "metadata": {},
   "outputs": [
    {
     "data": {
      "text/plain": [
       "[{'lead': {'Name': 'Bashnina Antonina Glebovna'},\n",
       "  'degree': 14,\n",
       "  'partiсipant': [{'Name': 'Sergulin Egor Glebovich'},\n",
       "   {'Name': \"Akramova Liudmila Al'bertovna\"},\n",
       "   {'Name': 'Zhandarev Viktor Glebovich'},\n",
       "   {'Name': 'Kuporov Grigorii Stanislavovich'},\n",
       "   {'Name': \"Argentovskaia Evgeniia Evgen'evna\"},\n",
       "   {'Name': \"Chelombit'ko Timofei Antonovich\"},\n",
       "   {'Name': 'Susaikin Vladimir Iaroslavovich'},\n",
       "   {'Name': 'Nedokvasov Vladislav Konstantinovich'},\n",
       "   {'Name': 'Golovushina Alla Filippovna'},\n",
       "   {'Name': 'Pavliuchikov Maksim Filippovich'},\n",
       "   {'Name': 'Gabov Boris Marselevich'},\n",
       "   {'Name': 'Fefilov Dmitrii Ianovich'},\n",
       "   {'Name': 'Aliabysheva Diana Iaroslavovna'},\n",
       "   {'Name': 'Kazak Nikolai Ruslanovich'}]}]"
      ]
     },
     "execution_count": 364,
     "metadata": {},
     "output_type": "execute_result"
    }
   ],
   "source": [
    "query_social_2_list = '''MATCH (m:INTER{Name:'Bashnina Antonina Glebovna'})-[*]-(e:event)-[a*]-(x)\n",
    "WITH m AS lead, count(x) AS degree, collect(x) AS partiсipant\n",
    "RETURN lead, degree, partiсipant'''\n",
    "\n",
    "participant_2= session.run(query_social_2_list).data()\n",
    "participant_2"
   ]
  },
  {
   "cell_type": "code",
   "execution_count": 365,
   "id": "74800f5f",
   "metadata": {},
   "outputs": [
    {
     "data": {
      "application/vnd.jupyter.widget-view+json": {
       "model_id": "506e322dd9d44257b29591c4aba35539",
       "version_major": 2,
       "version_minor": 0
      },
      "text/plain": [
       "GraphWidget(layout=Layout(height='500px', width='100%'))"
      ]
     },
     "metadata": {},
     "output_type": "display_data"
    }
   ],
   "source": [
    "query_social_3 = '''\n",
    "MATCH  (m:INTER {Name:'Bugaichuk Roman Eduardovich'})-[b]-(e:event)-[a*]-(x) \n",
    "RETURN *\n",
    "'''\n",
    "session = driver.session()\n",
    "graph = session.run(query_social_3).graph()\n",
    "s3 = GraphWidget(graph = graph)\n",
    "s3.set_node_styles_mapping(lambda index, node: styles.get(node['properties']['label'], {}))\n",
    "s3.set_node_label_mapping(lambda index, node: node['properties']['Name'])\n",
    "s3.show()"
   ]
  },
  {
   "cell_type": "markdown",
   "id": "26522363",
   "metadata": {},
   "source": [
    "Это сообщество интересное. Явного лидера не представляется возможным выделить, однако запрос для построения выполнен\n",
    "относительно централной персоны. Относительно нее будут высчитаны степени связности. Возможно также ввести понятие \"веса\" персоны. Введена колонка степени связности для членов такого сообщества."
   ]
  },
  {
   "cell_type": "code",
   "execution_count": 366,
   "id": "add2a97d",
   "metadata": {},
   "outputs": [
    {
     "data": {
      "text/plain": [
       "[{'start_member': {'Name': 'Bugaichuk Roman Eduardovich'},\n",
       "  'participant': [{'Name': 'Radionova Tamara Iaroslavovna'},\n",
       "   {'Name': 'Anikhnova Tamara Ruslanovna'}],\n",
       "  'step': 1},\n",
       " {'start_member': {'Name': 'Bugaichuk Roman Eduardovich'},\n",
       "  'participant': [{'Name': \"Diomidov Igor' Il'darovich\"},\n",
       "   {'Name': 'Zimnukhova Karina Danilovna'}],\n",
       "  'step': 2},\n",
       " {'start_member': {'Name': 'Bugaichuk Roman Eduardovich'},\n",
       "  'participant': [{'Name': 'Pitenin Iaroslav Radikovich'},\n",
       "   {'Name': 'Karsanov Damir Timurovich'},\n",
       "   {'Name': \"Tiktinskaia Galina Grigor'evna\"},\n",
       "   {'Name': \"Starobinskaia Iana Al'bertovna\"},\n",
       "   {'Name': 'Loviagin Dmitrii Denisovich'},\n",
       "   {'Name': \"Lanchikova Al'bina Valer'evna\"},\n",
       "   {'Name': 'Lekanova Tamara Ivanovna'},\n",
       "   {'Name': 'Krivoviazova Kseniia Iaroslavovna'}],\n",
       "  'step': 3}]"
      ]
     },
     "execution_count": 366,
     "metadata": {},
     "output_type": "execute_result"
    }
   ],
   "source": [
    "query_social_3_list = '''\n",
    "MATCH p = (m:INTER{Name: 'Bugaichuk Roman Eduardovich'})-[z*]-(x:person) \n",
    "RETURN  m AS start_member, collect(x) AS participant, length(p)/2 AS step\n",
    "'''\n",
    "participant_3 = session.run(query_social_3_list).data()\n",
    "participant_3"
   ]
  },
  {
   "cell_type": "markdown",
   "id": "b05d631a",
   "metadata": {},
   "source": [
    "Такое представление в совокупности с визуальным дает информацию о структуре и составе сообщества"
   ]
  },
  {
   "cell_type": "code",
   "execution_count": 367,
   "id": "1fe8f3f6",
   "metadata": {},
   "outputs": [
    {
     "data": {
      "application/vnd.jupyter.widget-view+json": {
       "model_id": "60eccb598e7b4372a7ceb280cd9f57fa",
       "version_major": 2,
       "version_minor": 0
      },
      "text/plain": [
       "GraphWidget(layout=Layout(height='500px', width='100%'))"
      ]
     },
     "metadata": {},
     "output_type": "display_data"
    }
   ],
   "source": [
    "query_social_4 = '''\n",
    "MATCH  (m:INTER {Name:\"Medvedeva Dar'ia Alekseevna\"})-[b]->(e:event)-[a*]-(x) \n",
    "RETURN *\n",
    "'''\n",
    "session = driver.session()\n",
    "graph = session.run(query_social_4).graph()\n",
    "s4 = GraphWidget(graph = graph)\n",
    "s4.set_node_styles_mapping(lambda index, node: styles.get(node['properties']['label'], {}))\n",
    "s4.set_node_label_mapping(lambda index, node: node['properties']['Name'])\n",
    "s4.show()"
   ]
  },
  {
   "cell_type": "markdown",
   "id": "1a701309",
   "metadata": {},
   "source": [
    "Это несложное сообщество с явным лидером и равноудаленными от него участниками"
   ]
  },
  {
   "cell_type": "code",
   "execution_count": 368,
   "id": "1576366f",
   "metadata": {},
   "outputs": [
    {
     "data": {
      "text/plain": [
       "[{'lead': {'Name': \"Medvedeva Dar'ia Alekseevna\"},\n",
       "  'degree': 6,\n",
       "  'partisipant': [{'Name': \"Kondrat'ev Boris Germanovich\"},\n",
       "   {'Name': 'Pomykalova Tamara Fedorovna'},\n",
       "   {'Name': 'Glazkov Artur Petrovich'},\n",
       "   {'Name': 'Bezgachii Denis Efimovich'},\n",
       "   {'Name': \"Dubrova Anzhelika Grigor'evna\"},\n",
       "   {'Name': 'Pchelintsev Artur Glebovich'}]}]"
      ]
     },
     "execution_count": 368,
     "metadata": {},
     "output_type": "execute_result"
    }
   ],
   "source": [
    "query_social_4_list = '''\n",
    "MATCH (m:INTER{Name:\"Medvedeva Dar'ia Alekseevna\"})-[*]-(e:event)-[a]-(x)\n",
    "WITH m AS lead, count(x) AS degree, collect(x) AS partisipant\n",
    "RETURN lead, degree, partisipant\n",
    "'''\n",
    "participant_4 = session.run(query_social_4_list).data()\n",
    "participant_4"
   ]
  },
  {
   "cell_type": "code",
   "execution_count": 369,
   "id": "7fe4753b",
   "metadata": {},
   "outputs": [
    {
     "data": {
      "application/vnd.jupyter.widget-view+json": {
       "model_id": "40fb6e0c18344258b83e5bb6ca47da31",
       "version_major": 2,
       "version_minor": 0
      },
      "text/plain": [
       "GraphWidget(layout=Layout(height='500px', width='100%'))"
      ]
     },
     "metadata": {},
     "output_type": "display_data"
    }
   ],
   "source": [
    "query_social_5 = '''\n",
    "MATCH  (m:INTER {Name:\"Nedoveskov Vladimir Ivanovich\"})-[b]->(e:event)-[a*]-(x) \n",
    "RETURN *\n",
    "'''\n",
    "session = driver.session()\n",
    "graph = session.run(query_social_5).graph()\n",
    "s5 = GraphWidget(graph = graph)\n",
    "s5.set_node_styles_mapping(lambda index, node: styles.get(node['properties']['label'], {}))\n",
    "s5.set_node_label_mapping(lambda index, node: node['properties']['Name'])\n",
    "s5.show()"
   ]
  },
  {
   "cell_type": "markdown",
   "id": "2d16c725",
   "metadata": {},
   "source": [
    "Круговое сообщество. В качестве характеристик имеет смысл перечислить участников и обозначить количество шагов от стартовой вершины до каждой. Алгоритм запроса обойдет граф с двух сторон и покажет число шагов до каждого участника с каждой стороны. Лидера нет. "
   ]
  },
  {
   "cell_type": "code",
   "execution_count": 370,
   "id": "5ab6e6a0",
   "metadata": {},
   "outputs": [
    {
     "data": {
      "text/plain": [
       "[{'start_member': {'Name': 'Nedoveskov Vladimir Ivanovich'},\n",
       "  'participant': [{'Name': \"Iatskoi Robert Il'darovich\"},\n",
       "   {'Name': 'Podolian Vladislav Denisovich'}],\n",
       "  'step': 1},\n",
       " {'start_member': {'Name': 'Nedoveskov Vladimir Ivanovich'},\n",
       "  'participant': [{'Name': \"Kaekhtin Il'dar Eduardovich\"},\n",
       "   {'Name': 'Poskrebyshev Iakov Dmitrievich'}],\n",
       "  'step': 2},\n",
       " {'start_member': {'Name': 'Nedoveskov Vladimir Ivanovich'},\n",
       "  'participant': [{'Name': \"Mailina Gul'nara Ivanovna\"},\n",
       "   {'Name': \"Mailina Gul'nara Ivanovna\"}],\n",
       "  'step': 3},\n",
       " {'start_member': {'Name': 'Nedoveskov Vladimir Ivanovich'},\n",
       "  'participant': [{'Name': 'Poskrebyshev Iakov Dmitrievich'},\n",
       "   {'Name': \"Kaekhtin Il'dar Eduardovich\"}],\n",
       "  'step': 4},\n",
       " {'start_member': {'Name': 'Nedoveskov Vladimir Ivanovich'},\n",
       "  'participant': [{'Name': 'Podolian Vladislav Denisovich'},\n",
       "   {'Name': \"Iatskoi Robert Il'darovich\"}],\n",
       "  'step': 5},\n",
       " {'start_member': {'Name': 'Nedoveskov Vladimir Ivanovich'},\n",
       "  'participant': [{'Name': 'Nedoveskov Vladimir Ivanovich'},\n",
       "   {'Name': 'Nedoveskov Vladimir Ivanovich'}],\n",
       "  'step': 6}]"
      ]
     },
     "execution_count": 370,
     "metadata": {},
     "output_type": "execute_result"
    }
   ],
   "source": [
    "query_social_5_list = '''\n",
    "MATCH p =  (m:INTER{Name: 'Nedoveskov Vladimir Ivanovich'})-[z*]-(x:person) \n",
    "RETURN  m AS start_member, collect(x) AS participant, length(p)/2 AS step\n",
    "'''\n",
    "participant_5 = session.run(query_social_5_list).data()\n",
    "participant_5"
   ]
  },
  {
   "cell_type": "code",
   "execution_count": 371,
   "id": "e08c4264",
   "metadata": {},
   "outputs": [
    {
     "data": {
      "application/vnd.jupyter.widget-view+json": {
       "model_id": "5f5593300c2d4d5b8722ac48e4e5ba5a",
       "version_major": 2,
       "version_minor": 0
      },
      "text/plain": [
       "GraphWidget(layout=Layout(height='500px', width='100%'))"
      ]
     },
     "metadata": {},
     "output_type": "display_data"
    }
   ],
   "source": [
    "query_social_6 = '''\n",
    "MATCH  (m:INTER {Name:\"Sholokhov Igor' Robertovich\"})-[b]->(e:event)-[a*]-(x) \n",
    "RETURN *\n",
    "'''\n",
    "session = driver.session()\n",
    "graph = session.run(query_social_6).graph()\n",
    "s6 = GraphWidget(graph = graph)\n",
    "s6.set_node_styles_mapping(lambda index, node: styles.get(node['properties']['label'], {}))\n",
    "s6.set_node_label_mapping(lambda index, node: node['properties']['Name'])\n",
    "s6.show()"
   ]
  },
  {
   "cell_type": "code",
   "execution_count": 372,
   "id": "56d6deee",
   "metadata": {
    "scrolled": false
   },
   "outputs": [
    {
     "data": {
      "text/plain": [
       "[{'path': 1, 'prt': {'Name': 'Nagaitseva Anzhelika Ianovna'}, 'con': 5},\n",
       " {'path': 2, 'prt': {'Name': 'Troekurov Gleb Efimovich'}, 'con': 5},\n",
       " {'path': 2, 'prt': {'Name': \"Marakhovskaia Dar'ia Romanovna\"}, 'con': 5},\n",
       " {'path': 1, 'prt': {'Name': 'Pafomova Kira Vadimovna'}, 'con': 9},\n",
       " {'path': 4, 'prt': {'Name': \"Sholokhov Igor' Robertovich\"}, 'con': 6},\n",
       " {'path': 1, 'prt': {'Name': \"Dvigubskaia Valentina Gennad'evna\"}, 'con': 21},\n",
       " {'path': 2, 'prt': {'Name': 'Ivashev Viacheslav Igorevich'}, 'con': 14},\n",
       " {'path': 3, 'prt': {'Name': \"Ryskina El'mira Ivanovna\"}, 'con': 14},\n",
       " {'path': 4, 'prt': {'Name': 'Danilenko Vladimir Semenovich'}, 'con': 14},\n",
       " {'path': 3, 'prt': {'Name': 'Batievskaia Angelina Romanovna'}, 'con': 14},\n",
       " {'path': 2, 'prt': {'Name': 'Dorozhkin Anatolii Egorovich'}, 'con': 14},\n",
       " {'path': 1, 'prt': {'Name': 'Torgunakov Roman Kirillovich'}, 'con': 5},\n",
       " {'path': 2, 'prt': {'Name': 'Liaudanskii Valentin Vladislavovich'}, 'con': 5}]"
      ]
     },
     "execution_count": 372,
     "metadata": {},
     "output_type": "execute_result"
    }
   ],
   "source": [
    "query_social_6_list ='''\n",
    "MATCH p = (m:INTER {Name:\"Sholokhov Igor' Robertovich\"})-[a*]-(prt:person) \n",
    "RETURN min(length(p)/2) AS path, prt, count(a) AS con\n",
    "'''\n",
    "participant_6 = session.run(query_social_6_list).data()\n",
    "participant_6"
   ]
  },
  {
   "cell_type": "markdown",
   "id": "b63ce35c",
   "metadata": {},
   "source": [
    "Самое непростое для анализа сообщество. За стартовую персону был взят \"Sholokhov Igor' Robertovich\". Посчитан минимальный путь обхода сообщества до каждого из участников path. Значение con характеризует количество возможных путей между стартовой персоной и каждым участником."
   ]
  },
  {
   "cell_type": "markdown",
   "id": "6b93e199",
   "metadata": {},
   "source": [
    "Таким образом удалось следующее: \n",
    "    - Загрузить датафрейм из файла CSV для подготовки к импорту в neo4j;\n",
    "    - Импортировать данные в базу Neo4j с корректным учетом связей между сущностями;\n",
    "    - Наладить связь из среды jupyter с базой Neo4j;\n",
    "    - Составить несколько запросов, позволяющих провести поверхностный анализ сообществ и вывести результаты анализа: визуальные и количественные;\n",
    "Не удалось: \n",
    "    - Применить алгоритмы автоматического поиска сообществ в базе по определенным признакам (кроме признака \"по количеству связей\");"
   ]
  },
  {
   "cell_type": "markdown",
   "id": "a508f2ba",
   "metadata": {},
   "source": [
    "# rest сервис на python к графовой БД в котором на вход поступает ФИО, на выходе graphml или json"
   ]
  },
  {
   "cell_type": "markdown",
   "id": "3099e2e6",
   "metadata": {},
   "source": [
    "Здесь реализован самый простой локальный сервис. После запуска следует открыть браузер по ссылке \"http://127.0.0.1:7700/\". Далее ввести русскими буквами ФИО интересующей персоны. В открытой странице браузера отобразится json со связанными вершинами. Остановка сервиса только принудительная. "
   ]
  },
  {
   "cell_type": "code",
   "execution_count": 447,
   "id": "92784794",
   "metadata": {
    "scrolled": false
   },
   "outputs": [
    {
     "name": "stdout",
     "output_type": "stream",
     "text": [
      " * Serving Flask app \"__main__\" (lazy loading)\n",
      " * Environment: production\n",
      "\u001b[31m   WARNING: This is a development server. Do not use it in a production deployment.\u001b[0m\n",
      "\u001b[2m   Use a production WSGI server instead.\u001b[0m\n",
      " * Debug mode: off\n"
     ]
    },
    {
     "name": "stderr",
     "output_type": "stream",
     "text": [
      " * Running on http://127.0.0.1:7700/ (Press CTRL+C to quit)\n"
     ]
    },
    {
     "name": "stdout",
     "output_type": "stream",
     "text": [
      "bdkmb\n"
     ]
    },
    {
     "name": "stderr",
     "output_type": "stream",
     "text": [
      "127.0.0.1 - - [14/Mar/2023 06:19:18] \"GET / HTTP/1.1\" 200 -\n"
     ]
    }
   ],
   "source": [
    "from flask import Flask, jsonify\n",
    "import requests\n",
    "from flask_restful import Resource, Api\n",
    "\n",
    "app = Flask(__name__)\n",
    "api = Api (app)\n",
    "\n",
    "class GraphTest(Resource):\n",
    "    def __init__(self):\n",
    "        pass\n",
    "    \n",
    "    def get(self):\n",
    "        person = unidecode.unidecode(str(input()))\n",
    "        person_uni = '{Name:\"' + person +'\"}'\n",
    "        query_social_rest = f'MATCH  (m:person {person_uni})-[b]->(e:event)-[a*]-(x) RETURN m AS main_person , e AS event, x AS person'\n",
    "        session = driver.session()\n",
    "        result = session.run(query_social_rest).data()\n",
    "        return result\n",
    "\n",
    "api.add_resource(GraphTest, '/')\n",
    "if __name__ == \"__main__\":\n",
    "    app.run(port = 7700 )"
   ]
  }
 ],
 "metadata": {
  "kernelspec": {
   "display_name": "Python 3 (ipykernel)",
   "language": "python",
   "name": "python3"
  },
  "language_info": {
   "codemirror_mode": {
    "name": "ipython",
    "version": 3
   },
   "file_extension": ".py",
   "mimetype": "text/x-python",
   "name": "python",
   "nbconvert_exporter": "python",
   "pygments_lexer": "ipython3",
   "version": "3.9.12"
  }
 },
 "nbformat": 4,
 "nbformat_minor": 5
}
