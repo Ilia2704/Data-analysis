{
 "cells": [
  {
   "cell_type": "code",
   "execution_count": 100,
   "id": "f0ddca38",
   "metadata": {},
   "outputs": [
    {
     "name": "stdout",
     "output_type": "stream",
     "text": [
      "    Mass  Velos  Nmast  Nwings Config  Split   Vtype  StabType \n",
      "0    150   21.5      3       3     TD       0       0       pas\n",
      "1   2500  120.0      3       3     CN       1       0       act\n",
      "2    120   35.0      1       2     CV       0       0       act\n",
      "3    160   35.0      1       2     CV       0       0       pas\n",
      "4    200   10.0      2       2     TD       0       0       act\n",
      "5    150   59.0      1       2     CV       0       0       pas\n",
      "6    180   45.0      1       2     CV       0       0       pas\n",
      "7    120   45.0      1       2     CV       0       0       pas\n",
      "8    140   30.0      1       2     CV       0       0       pas\n",
      "9    120   45.0      1       2     CV       0       0       pas\n",
      "10   200   20.0      2       2     TD       0       0       act\n",
      "11  1800  100.0      3       3     CV       0       0       pas\n",
      "12  1500   74.0      4       2     CV       0       1       pas\n",
      "13  2400   68.0      3       3     CN       0       0       act\n",
      "14   250   37.0      4       4     TD       1       1       pas\n",
      "15   200   21.0      2       2     TD       0       0       act\n",
      "16  1500   30.0      3       2     CN       0       0       act\n",
      "17  9200   60.0      2       2     TD       0       0       act\n",
      "18   300   37.0      3       3     CN       1       0       act\n",
      "19   195   30.0      3       3     CN       0       0       pas\n",
      "20   300   83.0      4       2     CV       0       1       pas\n",
      "21   200   40.0      2       2     TD       0       0       act\n"
     ]
    }
   ],
   "source": [
    "import pandas as pd\n",
    "\n",
    "# путь к вашему файлу Excel и имя листа\n",
    "file_path = \"C:\\\\Users\\\\Ilia\\\\Desktop\\\\Проект AI\\\\Лодка\\\\проект катер\\\\проект катер\\\\Аналоги.xlsx\"\n",
    "sheet_name = \"Для классификации\"\n",
    "\n",
    "# Импорт данных из файла Excel в DataFrame\n",
    "df = pd.read_excel(file_path, sheet_name=sheet_name)\n",
    "\n",
    "# Вывод первых нескольких строк DataFrame для проверки\n",
    "print(df.head(30))"
   ]
  },
  {
   "cell_type": "code",
   "execution_count": 4,
   "id": "4ac80baf",
   "metadata": {},
   "outputs": [],
   "source": [
    "# Присвоение переменной X фичей (Mass и Velos)\n",
    "X = df[['Mass', 'Velos']]\n",
    "\n",
    "# Присвоение переменной y значений классификации\n",
    "y = df.drop(columns=['Mass', 'Velos'])"
   ]
  },
  {
   "cell_type": "code",
   "execution_count": 224,
   "id": "f21518d2",
   "metadata": {},
   "outputs": [],
   "source": [
    "res = []"
   ]
  },
  {
   "cell_type": "code",
   "execution_count": 104,
   "id": "3f6608b5",
   "metadata": {},
   "outputs": [
    {
     "data": {
      "text/html": [
       "<div>\n",
       "<style scoped>\n",
       "    .dataframe tbody tr th:only-of-type {\n",
       "        vertical-align: middle;\n",
       "    }\n",
       "\n",
       "    .dataframe tbody tr th {\n",
       "        vertical-align: top;\n",
       "    }\n",
       "\n",
       "    .dataframe thead th {\n",
       "        text-align: right;\n",
       "    }\n",
       "</style>\n",
       "<table border=\"1\" class=\"dataframe\">\n",
       "  <thead>\n",
       "    <tr style=\"text-align: right;\">\n",
       "      <th></th>\n",
       "      <th>Mass</th>\n",
       "      <th>Velos</th>\n",
       "    </tr>\n",
       "  </thead>\n",
       "  <tbody>\n",
       "    <tr>\n",
       "      <th>0</th>\n",
       "      <td>200</td>\n",
       "      <td>45</td>\n",
       "    </tr>\n",
       "  </tbody>\n",
       "</table>\n",
       "</div>"
      ],
      "text/plain": [
       "   Mass  Velos\n",
       "0   200     45"
      ]
     },
     "execution_count": 104,
     "metadata": {},
     "output_type": "execute_result"
    }
   ],
   "source": [
    "Need = [200, 45]\n",
    "X_need = pd.DataFrame(Need).transpose()\n",
    "X_need.columns = ['Mass', 'Velos']\n",
    "X_need"
   ]
  },
  {
   "cell_type": "code",
   "execution_count": 120,
   "id": "40fd3907",
   "metadata": {
    "scrolled": true
   },
   "outputs": [
    {
     "data": {
      "text/plain": [
       "[array([3], dtype=int64),\n",
       " array([2], dtype=int64),\n",
       " array(['CV'], dtype=object),\n",
       " array([0], dtype=int64),\n",
       " array([0], dtype=int64),\n",
       " array(['pas'], dtype=object)]"
      ]
     },
     "execution_count": 120,
     "metadata": {},
     "output_type": "execute_result"
    }
   ],
   "source": [
    "from sklearn.linear_model import LogisticRegression\n",
    "from sklearn.model_selection import train_test_split\n",
    "from sklearn.metrics import accuracy_score\n",
    "\n",
    "# Создание пустого списка для хранения обученных моделей\n",
    "models = []\n",
    "\n",
    "#обучение отдельных моделей для каждого столбца значений классификации\n",
    "for i in range(y_train.shape[1]):\n",
    "    # Создание и обучение модели логистической регрессии для i-го столбца\n",
    "    logistic_model = LogisticRegression(max_iter=1000)  # Максимальное число итераций для сходимости\n",
    "    logistic_model.fit(X, y.iloc[:, i])\n",
    "    \n",
    "    # Добавление обученной модели в список\n",
    "    models.append(logistic_model)\n",
    "\n",
    "# Предсказание на тестовом наборе \n",
    "y_pred_log = []\n",
    "for model in models:\n",
    "    y_pred = model.predict(X_need)\n",
    "    y_pred_log.append(y_pred)\n",
    "y_pred_log"
   ]
  },
  {
   "cell_type": "code",
   "execution_count": 121,
   "id": "8a11c3ba",
   "metadata": {},
   "outputs": [
    {
     "data": {
      "text/plain": [
       "['Nmast', 'Nwings', 'Config', 'Split ', 'Vtype ', 'StabType ']"
      ]
     },
     "execution_count": 121,
     "metadata": {},
     "output_type": "execute_result"
    }
   ],
   "source": [
    "columns_list = y.columns.tolist()\n",
    "columns_list"
   ]
  },
  {
   "cell_type": "code",
   "execution_count": 225,
   "id": "d44081cf",
   "metadata": {
    "scrolled": false
   },
   "outputs": [
    {
     "name": "stdout",
     "output_type": "stream",
     "text": [
      "    LogisticRegression\n",
      "Accuracy for Nmast = [3]: 0.6\n",
      "Accuracy for Nwings = [2]: 0.4\n",
      "Accuracy for Config = ['CV']: 0.6\n",
      "Accuracy for Split  = [0]: 0.8\n",
      "Accuracy for Vtype  = [0]: 0.8\n",
      "Accuracy for StabType  = ['pas']: 0.4\n"
     ]
    }
   ],
   "source": [
    "models = []\n",
    "\n",
    "# Разделение данных на обучающий и тестовый наборы\n",
    "X_train, X_test, y_train, y_test = train_test_split(X, y, test_size=0.2, random_state=42)\n",
    "\n",
    "# Обучение отдельных моделей для каждого столбца значений классификации\n",
    "for i in range(y_train.shape[1]):\n",
    "    # Создание и обучение модели логистической регрессии для i-го столбца\n",
    "    logistic_model = LogisticRegression(max_iter=1000)  # Максимальное число итераций для сходимости\n",
    "    logistic_model.fit(X_train, y_train.iloc[:, i])\n",
    "    \n",
    "    # Добавление обученной модели в список\n",
    "    models.append(logistic_model)\n",
    "\n",
    "# Предсказание на тестовом наборе для каждой модели\n",
    "y_preds = []\n",
    "for model in models:\n",
    "    y_pred = model.predict(X_test)\n",
    "    y_preds.append(y_pred)\n",
    "\n",
    "print('    LogisticRegression')\n",
    "res.append(['LogisticRegression'])\n",
    "accuracies = []\n",
    "# Оценка точности каждой модели\n",
    "for i, y_pred in enumerate(y_preds):\n",
    "    accuracy_log = accuracy_score(y_test.iloc[:, i], y_pred)\n",
    "    print(f\"Accuracy for {columns_list[i]} = {y_pred_log[i]}: {accuracy_log}\")\n",
    "\n",
    "    accuracies.append([[columns_list[i], y_pred_log[i][0], accuracy_log]])\n",
    "res.append(accuracies)"
   ]
  },
  {
   "cell_type": "code",
   "execution_count": null,
   "id": "b2f39280",
   "metadata": {},
   "outputs": [],
   "source": []
  },
  {
   "cell_type": "code",
   "execution_count": 150,
   "id": "35d020bd",
   "metadata": {},
   "outputs": [
    {
     "data": {
      "text/plain": [
       "[array([1], dtype=int64),\n",
       " array([2], dtype=int64),\n",
       " array(['CV'], dtype=object),\n",
       " array([0], dtype=int64),\n",
       " array([0], dtype=int64),\n",
       " array(['pas'], dtype=object)]"
      ]
     },
     "execution_count": 150,
     "metadata": {},
     "output_type": "execute_result"
    }
   ],
   "source": [
    "from sklearn.svm import SVC\n",
    "from sklearn.model_selection import train_test_split\n",
    "from sklearn.metrics import accuracy_score\n",
    "\n",
    "# Создание пустого списка для хранения обученных моделей\n",
    "models_svc = []\n",
    "\n",
    "#обучение отдельных моделей для каждого столбца значений классификации\n",
    "for i in range(y_train.shape[1]):\n",
    "    # Создание и обучение модели логистической регрессии для i-го столбца\n",
    "    model_svc = SVC()  \n",
    "    model_svc.fit(X, y.iloc[:, i])\n",
    "    \n",
    "    # Добавление обученной модели в список\n",
    "    models_svc.append(model_svc)\n",
    "\n",
    "y_preds_svc = []\n",
    "for model in models_svc:\n",
    "    y_pred = model.predict(X_need)\n",
    "    y_preds_svc.append(y_pred)\n",
    "y_preds_svc   "
   ]
  },
  {
   "cell_type": "code",
   "execution_count": 226,
   "id": "4739e2a0",
   "metadata": {},
   "outputs": [
    {
     "name": "stdout",
     "output_type": "stream",
     "text": [
      "    SVC\n",
      "Accuracy for Nmast = [1]: 0.6\n",
      "Accuracy for Nwings = [2]: 0.4\n",
      "Accuracy for Config = ['CV']: 0.2\n",
      "Accuracy for Split  = [0]: 0.8\n",
      "Accuracy for Vtype  = [0]: 1.0\n",
      "Accuracy for StabType  = ['pas']: 0.4\n"
     ]
    }
   ],
   "source": [
    "models = []\n",
    "\n",
    "# Разделение данных  на обучающий и тестовый наборы\n",
    "X_train, X_test, y_train, y_test = train_test_split(X, y, test_size=0.2, random_state=42)\n",
    "\n",
    "# Обучение отдельных моделей для каждого столбца значений классификации\n",
    "for i in range(y_train.shape[1]):\n",
    "    # Создание и обучение модели логистической регрессии для i-го столбца\n",
    "    model = SVC()  \n",
    "    model.fit(X_train, y_train.iloc[:, i])\n",
    "    \n",
    "    # Добавление обученной модели в список\n",
    "    models.append(model)\n",
    "\n",
    "# Предсказание на тестовом наборе для каждой модели\n",
    "y_preds = []\n",
    "for model in models:\n",
    "    y_pred = model.predict(X_test)\n",
    "    y_preds.append(y_pred)\n",
    "\n",
    "print('    SVC')\n",
    "res.append(['SVC'])\n",
    "# Оценка точности каждой модели\n",
    "accuracies = []\n",
    "for i, y_pred in enumerate(y_preds):\n",
    "    accuracy = accuracy_score(y_test.iloc[:, i], y_pred)\n",
    "    print(f\"Accuracy for {columns_list[i]} = {y_preds_svc[i]}: {accuracy}\")\n",
    "    accuracies.append([[columns_list[i], y_preds_svc[i][0], accuracy]])\n",
    "res.append(accuracies)"
   ]
  },
  {
   "cell_type": "code",
   "execution_count": 200,
   "id": "d175ee3c",
   "metadata": {},
   "outputs": [
    {
     "data": {
      "text/plain": [
       "[['LogisticRegression'],\n",
       " [[['Nmast', 3, 0.6]],\n",
       "  [['Nwings', 2, 0.4]],\n",
       "  [['Config', 'CV', 0.6]],\n",
       "  [['Split ', 0, 0.8]],\n",
       "  [['Vtype ', 0, 0.8]],\n",
       "  [['StabType ', 'pas', 0.4]]],\n",
       " ['SVC'],\n",
       " [[['Nmast', 1, 0.6]],\n",
       "  [['Nwings', 2, 0.4]],\n",
       "  [['Config', 'CV', 0.2]],\n",
       "  [['Split ', 0, 0.8]],\n",
       "  [['Vtype ', 0, 1.0]],\n",
       "  [['StabType ', 'pas', 0.4]]]]"
      ]
     },
     "execution_count": 200,
     "metadata": {},
     "output_type": "execute_result"
    }
   ],
   "source": [
    "res"
   ]
  },
  {
   "cell_type": "code",
   "execution_count": 156,
   "id": "f00b4846",
   "metadata": {},
   "outputs": [
    {
     "data": {
      "text/plain": [
       "[array([2], dtype=int64),\n",
       " array([2], dtype=int64),\n",
       " array(['TD'], dtype=object),\n",
       " array([0], dtype=int64),\n",
       " array([0], dtype=int64),\n",
       " array(['act'], dtype=object)]"
      ]
     },
     "execution_count": 156,
     "metadata": {},
     "output_type": "execute_result"
    }
   ],
   "source": [
    "from sklearn.ensemble import GradientBoostingClassifier\n",
    "from sklearn.model_selection import train_test_split\n",
    "from sklearn.metrics import accuracy_score\n",
    "\n",
    "\n",
    "# Создание пустого списка для хранения обученных моделей\n",
    "models_GBC = []\n",
    "\n",
    "#обучение отдельных моделей для каждого столбца значений классификации\n",
    "for i in range(y_train.shape[1]):\n",
    "    # Создание и обучение модели логистической регрессии для i-го столбца\n",
    "    model_GBC = GradientBoostingClassifier()  \n",
    "    model_GBC.fit(X, y.iloc[:, i])\n",
    "    \n",
    "    # Добавление обученной модели в список\n",
    "    models_GBC.append(model_GBC)\n",
    "\n",
    "y_preds_GBC = []\n",
    "for model in models_GBC:\n",
    "    y_pred = model.predict(X_need)\n",
    "    y_preds_GBC.append(y_pred)\n",
    "y_preds_GBC"
   ]
  },
  {
   "cell_type": "code",
   "execution_count": 227,
   "id": "f799a9a5",
   "metadata": {},
   "outputs": [
    {
     "name": "stdout",
     "output_type": "stream",
     "text": [
      "    GradientBoostingClassifier\n",
      "Accuracy for Nmast = [2]: 0.6\n",
      "Accuracy for Nwings = [2]: 0.6\n",
      "Accuracy for Config = ['TD']: 0.4\n",
      "Accuracy for Split  = [0]: 0.8\n",
      "Accuracy for Vtype  = [0]: 0.8\n",
      "Accuracy for StabType  = ['act']: 0.2\n"
     ]
    }
   ],
   "source": [
    "models = []\n",
    "\n",
    "# Разделение данных на обучающий и тестовый наборы\n",
    "X_train, X_test, y_train, y_test = train_test_split(X, y, test_size=0.2, random_state=42)\n",
    "\n",
    "# Обучение отдельных моделей для каждого столбца значений классификации\n",
    "for i in range(y_train.shape[1]):\n",
    "    # Создание и обучение модели логистической регрессии для i-го столбца\n",
    "    model = GradientBoostingClassifier()  # Максимальное число итераций для сходимости\n",
    "    model.fit(X_train, y_train.iloc[:, i])\n",
    "    \n",
    "    # Добавление обученной модели в список\n",
    "    models.append(model)\n",
    "\n",
    "# Предсказание на тестовом наборе для каждой модели\n",
    "y_preds = []\n",
    "for model in models:\n",
    "    y_pred = model.predict(X_test)\n",
    "    y_preds.append(y_pred)\n",
    "\n",
    "print('    GradientBoostingClassifier')\n",
    "res.append(['GradientBoostingClassifier'])\n",
    "# Оценка точности каждой модели\n",
    "accuracies = []\n",
    "for i, y_pred in enumerate(y_preds):\n",
    "    accuracy = accuracy_score(y_test.iloc[:, i], y_pred)\n",
    "    print(f\"Accuracy for {columns_list[i]} = {y_preds_GBC[i]}: {accuracy}\")\n",
    "    accuracies.append([[columns_list[i], y_preds_GBC[i][0], accuracy]])\n",
    "res.append(accuracies)"
   ]
  },
  {
   "cell_type": "code",
   "execution_count": 168,
   "id": "d05cee68",
   "metadata": {},
   "outputs": [
    {
     "data": {
      "text/plain": [
       "[array([2], dtype=int64),\n",
       " array([2], dtype=int64),\n",
       " array(['TD'], dtype=object),\n",
       " array([0], dtype=int64),\n",
       " array([0], dtype=int64),\n",
       " array(['act'], dtype=object)]"
      ]
     },
     "execution_count": 168,
     "metadata": {},
     "output_type": "execute_result"
    }
   ],
   "source": [
    "from sklearn.ensemble import RandomForestClassifier\n",
    "from sklearn.model_selection import train_test_split\n",
    "from sklearn.metrics import accuracy_score\n",
    "\n",
    "# Создание пустого списка для хранения обученных моделей\n",
    "models_RFC = []\n",
    "\n",
    "#обучение отдельных моделей для каждого столбца значений классификации\n",
    "for i in range(y_train.shape[1]):\n",
    "    # Создание и обучение модели логистической регрессии для i-го столбца\n",
    "    model_RFC = RandomForestClassifier()  \n",
    "    model_RFC.fit(X, y.iloc[:, i])\n",
    "    \n",
    "    # Добавление обученной модели в список\n",
    "    models_RFC.append(model_RFC)\n",
    "\n",
    "y_preds_RFC = []\n",
    "for model in models_RFC:\n",
    "    y_pred = model.predict(X_need)\n",
    "    y_preds_RFC.append(y_pred)\n",
    "y_preds_RFC  "
   ]
  },
  {
   "cell_type": "code",
   "execution_count": 228,
   "id": "613f16a3",
   "metadata": {
    "scrolled": true
   },
   "outputs": [
    {
     "name": "stdout",
     "output_type": "stream",
     "text": [
      "    RandomForestClassifier\n",
      "Accuracy for Nmast = [2]: 0.6\n",
      "Accuracy for Nwings = [2]: 0.6\n",
      "Accuracy for Config = ['TD']: 0.4\n",
      "Accuracy for Split  = [0]: 0.8\n",
      "Accuracy for Vtype  = [0]: 1.0\n",
      "Accuracy for StabType  = ['act']: 0.6\n"
     ]
    }
   ],
   "source": [
    "models = []\n",
    "\n",
    "# Разделение данных на обучающий и тестовый наборы\n",
    "X_train, X_test, y_train, y_test = train_test_split(X, y, test_size=0.2, random_state=42)\n",
    "\n",
    "# Обучение отдельных моделей для каждого столбца значений классификации\n",
    "for i in range(y_train.shape[1]):\n",
    "    # Создание и обучение модели логистической регрессии для i-го столбца\n",
    "    model = RandomForestClassifier()  # Максимальное число итераций для сходимости\n",
    "    model.fit(X_train, y_train.iloc[:, i])\n",
    "    \n",
    "    # Добавление обученной модели в список\n",
    "    models.append(model)\n",
    "\n",
    "# Предсказание на тестовом наборе для каждой модели\n",
    "y_preds = []\n",
    "for model in models:\n",
    "    y_pred = model.predict(X_test)\n",
    "    y_preds.append(y_pred)\n",
    "\n",
    "print('    RandomForestClassifier')\n",
    "res.append(['RandomForestClassifier'])\n",
    "\n",
    "# Оценка точности каждой модели\n",
    "accuracies = []\n",
    "for i, y_pred in enumerate(y_preds):\n",
    "    accuracy = accuracy_score(y_test.iloc[:, i], y_pred)\n",
    "    print(f\"Accuracy for {columns_list[i]} = {y_preds_RFC[i]}: {accuracy}\")\n",
    "    accuracies.append([[columns_list[i], y_preds_RFC[i][0], accuracy]])\n",
    "res.append(accuracies)"
   ]
  },
  {
   "cell_type": "code",
   "execution_count": 229,
   "id": "7e31f79e",
   "metadata": {},
   "outputs": [
    {
     "data": {
      "text/plain": [
       "[['LogisticRegression'],\n",
       " [[['Nmast', 3, 0.6]],\n",
       "  [['Nwings', 2, 0.4]],\n",
       "  [['Config', 'CV', 0.6]],\n",
       "  [['Split ', 0, 0.8]],\n",
       "  [['Vtype ', 0, 0.8]],\n",
       "  [['StabType ', 'pas', 0.4]]],\n",
       " ['SVC'],\n",
       " [[['Nmast', 1, 0.6]],\n",
       "  [['Nwings', 2, 0.4]],\n",
       "  [['Config', 'CV', 0.2]],\n",
       "  [['Split ', 0, 0.8]],\n",
       "  [['Vtype ', 0, 1.0]],\n",
       "  [['StabType ', 'pas', 0.4]]],\n",
       " ['GradientBoostingClassifier'],\n",
       " [[['Nmast', 2, 0.6]],\n",
       "  [['Nwings', 2, 0.6]],\n",
       "  [['Config', 'TD', 0.4]],\n",
       "  [['Split ', 0, 0.8]],\n",
       "  [['Vtype ', 0, 0.8]],\n",
       "  [['StabType ', 'act', 0.2]]],\n",
       " ['RandomForestClassifier'],\n",
       " [[['Nmast', 2, 0.6]],\n",
       "  [['Nwings', 2, 0.6]],\n",
       "  [['Config', 'TD', 0.4]],\n",
       "  [['Split ', 0, 0.8]],\n",
       "  [['Vtype ', 0, 1.0]],\n",
       "  [['StabType ', 'act', 0.6]]]]"
      ]
     },
     "execution_count": 229,
     "metadata": {},
     "output_type": "execute_result"
    }
   ],
   "source": [
    "res"
   ]
  },
  {
   "cell_type": "code",
   "execution_count": 236,
   "id": "4fc2f7b6",
   "metadata": {},
   "outputs": [
    {
     "name": "stdout",
     "output_type": "stream",
     "text": [
      "\n",
      "['LogisticRegression']\n",
      "Nmast - 3(0.6)\n",
      "Nwings - 2(0.4)\n",
      "Config - CV(0.6)\n",
      "Split  - 0(0.8)\n",
      "Vtype  - 0(0.8)\n",
      "StabType  - pas(0.4)\n",
      "\n",
      "['SVC']\n",
      "Nmast - 1(0.6)\n",
      "Nwings - 2(0.4)\n",
      "Config - CV(0.2)\n",
      "Split  - 0(0.8)\n",
      "Vtype  - 0(1.0)\n",
      "StabType  - pas(0.4)\n",
      "\n",
      "['GradientBoostingClassifier']\n",
      "Nmast - 2(0.6)\n",
      "Nwings - 2(0.6)\n",
      "Config - TD(0.4)\n",
      "Split  - 0(0.8)\n",
      "Vtype  - 0(0.8)\n",
      "StabType  - act(0.2)\n",
      "\n",
      "['RandomForestClassifier']\n",
      "Nmast - 2(0.6)\n",
      "Nwings - 2(0.6)\n",
      "Config - TD(0.4)\n",
      "Split  - 0(0.8)\n",
      "Vtype  - 0(1.0)\n",
      "StabType  - act(0.6)\n"
     ]
    }
   ],
   "source": [
    "for st in range(1, len(res), 2):\n",
    "    print('')\n",
    "    print(res[st-1])\n",
    "    for i in res[st]:\n",
    "        print (f'{i[0][0]} - {i[0][1]}({i[0][2]})')"
   ]
  },
  {
   "cell_type": "code",
   "execution_count": null,
   "id": "f3175074",
   "metadata": {},
   "outputs": [],
   "source": []
  }
 ],
 "metadata": {
  "kernelspec": {
   "display_name": "Python 3 (ipykernel)",
   "language": "python",
   "name": "python3"
  },
  "language_info": {
   "codemirror_mode": {
    "name": "ipython",
    "version": 3
   },
   "file_extension": ".py",
   "mimetype": "text/x-python",
   "name": "python",
   "nbconvert_exporter": "python",
   "pygments_lexer": "ipython3",
   "version": "3.11.5"
  }
 },
 "nbformat": 4,
 "nbformat_minor": 5
}
